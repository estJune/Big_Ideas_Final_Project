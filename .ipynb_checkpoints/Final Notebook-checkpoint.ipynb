{
 "cells": [
  {
   "cell_type": "markdown",
   "metadata": {},
   "source": [
    "# Intro \n",
    "When choosing a neighborhood to live in, especially in an urban environment, saftey is one of the most important factors to consider. As for personal movtivation, saftey is one of the most important things we decided on as an indicator for a neighborhood we would want to live in. None of us would want to live in a neighborhood with high crime rates or other threats to our saftey. A few indicators we considered when deciding our metric for best neighborhood included a few other things like cost of living and affordability. However, we decided saftey was what we wanted to create this project on.\n",
    "\n",
    "# The Metric  \n",
    "The metric we used to determine the best neighborhood in Pittsburgh was Safety, or which is the safest neighborhood. To measure Safety within a neighborhood, we each chose a metirc and a complementing dataset. The datasets that were used were Firearms Seized, Fires, and Arrests in Pittsburgh. Each dataset looked for neighborhoods with the least amount of each reported data type. For example, the Firearms Seized located the neighborhood with the least firearms seized.\n",
    "\n",
    "# The Best Neighborhood \n",
    "Apply the metric from the previous section to determine the best neighborhood in Pittsburgh. Beyond just executing code, provide narrative about why you think this is the best neighborhood. Incorporate a data visualization, perhaps to rank all of the neighborhoods or show a neighborhood’s best-ness over time. The key is to make a data driven argument.\n",
    "\n",
    "# Conclusion  \n",
    "Each of our conclusions is in our indivdual notebooks relating to each of our data sets."
   ]
  },
  {
   "cell_type": "code",
   "execution_count": null,
   "metadata": {},
   "outputs": [],
   "source": []
  }
 ],
 "metadata": {
  "kernelspec": {
   "display_name": "Python 3",
   "language": "python",
   "name": "python3"
  },
  "language_info": {
   "codemirror_mode": {
    "name": "ipython",
    "version": 3
   },
   "file_extension": ".py",
   "mimetype": "text/x-python",
   "name": "python",
   "nbconvert_exporter": "python",
   "pygments_lexer": "ipython3",
   "version": "3.8.3"
  }
 },
 "nbformat": 4,
 "nbformat_minor": 4
}
